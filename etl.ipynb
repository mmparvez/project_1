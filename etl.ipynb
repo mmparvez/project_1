{
 "cells": [
  {
   "cell_type": "code",
   "execution_count": 74,
   "metadata": {},
   "outputs": [],
   "source": [
    "# Dependencies\n",
    "%matplotlib inline\n",
    "import numpy as np\n",
    "import pandas as pd\n",
    "import matplotlib.pyplot as plt\n",
    "from scipy import stats\n",
    "import scipy.stats as st\n",
    "from scipy.stats import linregress\n",
    "from pandas.core.reshape.pivot import pivot\n"
   ]
  },
  {
   "cell_type": "code",
   "execution_count": 120,
   "metadata": {},
   "outputs": [],
   "source": [
    "# Read CSV\n",
    "df1 = pd.read_csv(\"raw_data/2017-18-vacancy.csv\")\n",
    "df2 = pd.read_csv(\"raw_data/2018-19-vacancy.csv\")\n",
    "df3 = pd.read_csv(\"raw_data/2019-20-vacancy.csv\")\n",
    "df4 = pd.read_csv(\"raw_data/2020-21-vacancy.csv\")\n",
    "df5 = pd.read_csv(\"raw_data/2021-22-vacancy.csv\")"
   ]
  },
  {
   "cell_type": "code",
   "execution_count": 121,
   "metadata": {},
   "outputs": [
    {
     "data": {
      "text/plain": [
       "Index(['Postcode', 'Bedrooms', 'RentalUnitDesc', 'VUDate', 'VTDate', 'TENDate',\n",
       "       'RUUseType', 'HousingServiceCentre', 'VUDays', 'VTDays', 'TotalVAC',\n",
       "       'LGA', 'StateElectorate'],\n",
       "      dtype='object')"
      ]
     },
     "execution_count": 121,
     "metadata": {},
     "output_type": "execute_result"
    }
   ],
   "source": [
    "df1.columns"
   ]
  },
  {
   "cell_type": "code",
   "execution_count": 122,
   "metadata": {},
   "outputs": [
    {
     "data": {
      "text/plain": [
       "Index(['Postcode', 'Bedrooms', 'RentalUnitDesc', 'VUDate', 'VTDate', 'TENDate',\n",
       "       'RUUseType', 'HousingServiceCentre', 'VUDays', 'VTDays', 'TotalVAC',\n",
       "       'LGA', 'StateElectorate'],\n",
       "      dtype='object')"
      ]
     },
     "execution_count": 122,
     "metadata": {},
     "output_type": "execute_result"
    }
   ],
   "source": [
    "df2.columns"
   ]
  },
  {
   "cell_type": "code",
   "execution_count": 123,
   "metadata": {},
   "outputs": [
    {
     "data": {
      "text/html": [
       "<div>\n",
       "<style scoped>\n",
       "    .dataframe tbody tr th:only-of-type {\n",
       "        vertical-align: middle;\n",
       "    }\n",
       "\n",
       "    .dataframe tbody tr th {\n",
       "        vertical-align: top;\n",
       "    }\n",
       "\n",
       "    .dataframe thead th {\n",
       "        text-align: right;\n",
       "    }\n",
       "</style>\n",
       "<table border=\"1\" class=\"dataframe\">\n",
       "  <thead>\n",
       "    <tr style=\"text-align: right;\">\n",
       "      <th></th>\n",
       "      <th>Postcode</th>\n",
       "      <th>Bedrooms</th>\n",
       "      <th>RentalUnitDesc</th>\n",
       "      <th>VUDate</th>\n",
       "      <th>VTDate</th>\n",
       "      <th>TENDate</th>\n",
       "      <th>RUUseType</th>\n",
       "      <th>HousingServiceCentre</th>\n",
       "      <th>VUDays</th>\n",
       "      <th>VTDays</th>\n",
       "      <th>TotalVAC</th>\n",
       "      <th>LGA</th>\n",
       "      <th>StateElectorate</th>\n",
       "    </tr>\n",
       "  </thead>\n",
       "  <tbody>\n",
       "    <tr>\n",
       "      <th>7719</th>\n",
       "      <td>4215</td>\n",
       "      <td>2</td>\n",
       "      <td>APARTMENT</td>\n",
       "      <td>11/06/2018</td>\n",
       "      <td>13/06/2018</td>\n",
       "      <td>15/06/2018</td>\n",
       "      <td>Community Housing</td>\n",
       "      <td>204</td>\n",
       "      <td>2</td>\n",
       "      <td>2</td>\n",
       "      <td>4</td>\n",
       "      <td>GOLD COAST</td>\n",
       "      <td>SOUTHPORT</td>\n",
       "    </tr>\n",
       "    <tr>\n",
       "      <th>7720</th>\n",
       "      <td>4575</td>\n",
       "      <td>3</td>\n",
       "      <td>DETACHED HOUSE</td>\n",
       "      <td>14/06/2018</td>\n",
       "      <td>20/06/2018</td>\n",
       "      <td>20/06/2018</td>\n",
       "      <td>Community Housing</td>\n",
       "      <td>205</td>\n",
       "      <td>6</td>\n",
       "      <td>0</td>\n",
       "      <td>6</td>\n",
       "      <td>SUNSHINE COAST</td>\n",
       "      <td>KAWANA</td>\n",
       "    </tr>\n",
       "    <tr>\n",
       "      <th>7721</th>\n",
       "      <td>4551</td>\n",
       "      <td>3</td>\n",
       "      <td>DUPLEX</td>\n",
       "      <td>14/06/2018</td>\n",
       "      <td>20/06/2018</td>\n",
       "      <td>20/06/2018</td>\n",
       "      <td>Community Housing</td>\n",
       "      <td>205</td>\n",
       "      <td>6</td>\n",
       "      <td>0</td>\n",
       "      <td>6</td>\n",
       "      <td>SUNSHINE COAST</td>\n",
       "      <td>CALOUNDRA</td>\n",
       "    </tr>\n",
       "    <tr>\n",
       "      <th>7722</th>\n",
       "      <td>4551</td>\n",
       "      <td>3</td>\n",
       "      <td>DUPLEX</td>\n",
       "      <td>15/06/2018</td>\n",
       "      <td>20/06/2018</td>\n",
       "      <td>20/06/2018</td>\n",
       "      <td>Community Housing</td>\n",
       "      <td>205</td>\n",
       "      <td>5</td>\n",
       "      <td>0</td>\n",
       "      <td>5</td>\n",
       "      <td>SUNSHINE COAST</td>\n",
       "      <td>CALOUNDRA</td>\n",
       "    </tr>\n",
       "    <tr>\n",
       "      <th>7723</th>\n",
       "      <td>4814</td>\n",
       "      <td>3</td>\n",
       "      <td>DETACHED HOUSE</td>\n",
       "      <td>18/06/2018</td>\n",
       "      <td>22/06/2018</td>\n",
       "      <td>22/06/2018</td>\n",
       "      <td>Community Housing</td>\n",
       "      <td>201</td>\n",
       "      <td>4</td>\n",
       "      <td>0</td>\n",
       "      <td>4</td>\n",
       "      <td>TOWNSVILLE</td>\n",
       "      <td>MUNDINGBURRA</td>\n",
       "    </tr>\n",
       "  </tbody>\n",
       "</table>\n",
       "</div>"
      ],
      "text/plain": [
       "      Postcode  Bedrooms  RentalUnitDesc      VUDate      VTDate     TENDate  \\\n",
       "7719      4215         2       APARTMENT  11/06/2018  13/06/2018  15/06/2018   \n",
       "7720      4575         3  DETACHED HOUSE  14/06/2018  20/06/2018  20/06/2018   \n",
       "7721      4551         3          DUPLEX  14/06/2018  20/06/2018  20/06/2018   \n",
       "7722      4551         3          DUPLEX  15/06/2018  20/06/2018  20/06/2018   \n",
       "7723      4814         3  DETACHED HOUSE  18/06/2018  22/06/2018  22/06/2018   \n",
       "\n",
       "              RUUseType  HousingServiceCentre  VUDays  VTDays  TotalVAC  \\\n",
       "7719  Community Housing                   204       2       2         4   \n",
       "7720  Community Housing                   205       6       0         6   \n",
       "7721  Community Housing                   205       6       0         6   \n",
       "7722  Community Housing                   205       5       0         5   \n",
       "7723  Community Housing                   201       4       0         4   \n",
       "\n",
       "                 LGA StateElectorate  \n",
       "7719      GOLD COAST       SOUTHPORT  \n",
       "7720  SUNSHINE COAST          KAWANA  \n",
       "7721  SUNSHINE COAST       CALOUNDRA  \n",
       "7722  SUNSHINE COAST       CALOUNDRA  \n",
       "7723      TOWNSVILLE    MUNDINGBURRA  "
      ]
     },
     "execution_count": 123,
     "metadata": {},
     "output_type": "execute_result"
    }
   ],
   "source": [
    "df1.tail()"
   ]
  },
  {
   "cell_type": "code",
   "execution_count": 124,
   "metadata": {},
   "outputs": [
    {
     "data": {
      "text/plain": [
       "Index(['Postcode', 'Bedrooms', 'RentalUnitDesc', 'VUDate', 'VTDate', 'TENDate',\n",
       "       'RUUseType', 'HousingServiceCentre', 'VUDays', 'VTDays', 'TotalVAC',\n",
       "       'LGA', 'StateElectorate'],\n",
       "      dtype='object')"
      ]
     },
     "execution_count": 124,
     "metadata": {},
     "output_type": "execute_result"
    }
   ],
   "source": [
    "#Fixing column names and reordering as needed\n",
    "df3 = df3.rename(columns= {'PropertyType':'RentalUnitDesc', 'TotalVacDays':'TotalVac', 'LocalGovtAuthority':'LGA'})\n",
    "neworder = ['Postcode', 'Bedrooms', 'RentalUnitDesc', 'VUDate', 'VTDate', 'TENDate',\n",
    "       'RUUseType', 'HousingServiceCentre', 'VUDays', 'VTDays', 'TotalVAC',\n",
    "       'LGA', 'StateElectorate']\n",
    "df3=df3.reindex(columns=neworder)\n",
    "df3.columns"
   ]
  },
  {
   "cell_type": "code",
   "execution_count": 125,
   "metadata": {},
   "outputs": [
    {
     "data": {
      "text/html": [
       "<div>\n",
       "<style scoped>\n",
       "    .dataframe tbody tr th:only-of-type {\n",
       "        vertical-align: middle;\n",
       "    }\n",
       "\n",
       "    .dataframe tbody tr th {\n",
       "        vertical-align: top;\n",
       "    }\n",
       "\n",
       "    .dataframe thead th {\n",
       "        text-align: right;\n",
       "    }\n",
       "</style>\n",
       "<table border=\"1\" class=\"dataframe\">\n",
       "  <thead>\n",
       "    <tr style=\"text-align: right;\">\n",
       "      <th></th>\n",
       "      <th>Postcode</th>\n",
       "      <th>Bedrooms</th>\n",
       "      <th>RentalUnitDesc</th>\n",
       "      <th>VUDate</th>\n",
       "      <th>VTDate</th>\n",
       "      <th>TENDate</th>\n",
       "      <th>RUUseType</th>\n",
       "      <th>HousingServiceCentre</th>\n",
       "      <th>VUDays</th>\n",
       "      <th>VTDays</th>\n",
       "      <th>TotalVAC</th>\n",
       "      <th>LGA</th>\n",
       "      <th>StateElectorate</th>\n",
       "    </tr>\n",
       "  </thead>\n",
       "  <tbody>\n",
       "    <tr>\n",
       "      <th>7609</th>\n",
       "      <td>4720</td>\n",
       "      <td>2</td>\n",
       "      <td>Apartment</td>\n",
       "      <td>1/06/2020</td>\n",
       "      <td>1/06/2020</td>\n",
       "      <td>1/06/2020</td>\n",
       "      <td>Public Housing</td>\n",
       "      <td>EMERALD HSC</td>\n",
       "      <td>1</td>\n",
       "      <td>1</td>\n",
       "      <td>2</td>\n",
       "      <td>Central Highlands</td>\n",
       "      <td>Gregory</td>\n",
       "    </tr>\n",
       "    <tr>\n",
       "      <th>7610</th>\n",
       "      <td>4030</td>\n",
       "      <td>1</td>\n",
       "      <td>Apartment</td>\n",
       "      <td>1/06/2020</td>\n",
       "      <td>1/06/2020</td>\n",
       "      <td>1/06/2020</td>\n",
       "      <td>Community Housing</td>\n",
       "      <td>FORTITUDE VALLEY HSC</td>\n",
       "      <td>0</td>\n",
       "      <td>0</td>\n",
       "      <td>0</td>\n",
       "      <td>Brisbane</td>\n",
       "      <td>Clayfield</td>\n",
       "    </tr>\n",
       "    <tr>\n",
       "      <th>7611</th>\n",
       "      <td>4030</td>\n",
       "      <td>1</td>\n",
       "      <td>Apartment</td>\n",
       "      <td>1/06/2020</td>\n",
       "      <td>1/06/2020</td>\n",
       "      <td>1/06/2020</td>\n",
       "      <td>Community Housing</td>\n",
       "      <td>FORTITUDE VALLEY HSC</td>\n",
       "      <td>0</td>\n",
       "      <td>0</td>\n",
       "      <td>0</td>\n",
       "      <td>Brisbane</td>\n",
       "      <td>Clayfield</td>\n",
       "    </tr>\n",
       "    <tr>\n",
       "      <th>7612</th>\n",
       "      <td>4030</td>\n",
       "      <td>1</td>\n",
       "      <td>Apartment</td>\n",
       "      <td>1/06/2020</td>\n",
       "      <td>1/06/2020</td>\n",
       "      <td>1/06/2020</td>\n",
       "      <td>Community Housing</td>\n",
       "      <td>FORTITUDE VALLEY HSC</td>\n",
       "      <td>0</td>\n",
       "      <td>0</td>\n",
       "      <td>0</td>\n",
       "      <td>Brisbane</td>\n",
       "      <td>Clayfield</td>\n",
       "    </tr>\n",
       "    <tr>\n",
       "      <th>7613</th>\n",
       "      <td>4680</td>\n",
       "      <td>3</td>\n",
       "      <td>Detached House</td>\n",
       "      <td>1/06/2020</td>\n",
       "      <td>1/06/2020</td>\n",
       "      <td>1/06/2020</td>\n",
       "      <td>Public Housing</td>\n",
       "      <td>GLADSTONE HSC</td>\n",
       "      <td>0</td>\n",
       "      <td>3</td>\n",
       "      <td>3</td>\n",
       "      <td>Gladstone</td>\n",
       "      <td>Gladstone</td>\n",
       "    </tr>\n",
       "  </tbody>\n",
       "</table>\n",
       "</div>"
      ],
      "text/plain": [
       "      Postcode  Bedrooms  RentalUnitDesc     VUDate     VTDate    TENDate  \\\n",
       "7609      4720         2       Apartment  1/06/2020  1/06/2020  1/06/2020   \n",
       "7610      4030         1       Apartment  1/06/2020  1/06/2020  1/06/2020   \n",
       "7611      4030         1       Apartment  1/06/2020  1/06/2020  1/06/2020   \n",
       "7612      4030         1       Apartment  1/06/2020  1/06/2020  1/06/2020   \n",
       "7613      4680         3  Detached House  1/06/2020  1/06/2020  1/06/2020   \n",
       "\n",
       "              RUUseType  HousingServiceCentre  VUDays  VTDays  TotalVAC  \\\n",
       "7609     Public Housing           EMERALD HSC       1       1         2   \n",
       "7610  Community Housing  FORTITUDE VALLEY HSC       0       0         0   \n",
       "7611  Community Housing  FORTITUDE VALLEY HSC       0       0         0   \n",
       "7612  Community Housing  FORTITUDE VALLEY HSC       0       0         0   \n",
       "7613     Public Housing         GLADSTONE HSC       0       3         3   \n",
       "\n",
       "                    LGA StateElectorate  \n",
       "7609  Central Highlands         Gregory  \n",
       "7610           Brisbane       Clayfield  \n",
       "7611           Brisbane       Clayfield  \n",
       "7612           Brisbane       Clayfield  \n",
       "7613          Gladstone       Gladstone  "
      ]
     },
     "execution_count": 125,
     "metadata": {},
     "output_type": "execute_result"
    }
   ],
   "source": [
    "df3.tail()"
   ]
  },
  {
   "cell_type": "code",
   "execution_count": 126,
   "metadata": {},
   "outputs": [
    {
     "data": {
      "text/plain": [
       "Index(['Postcode', 'Bedrooms', 'RentalUnitDesc', 'VUDate', 'VTDate', 'TENDate',\n",
       "       'RUUseType', 'HousingServiceCentre', 'VUDays', 'VTDays', 'TotalVAC',\n",
       "       'LGA', 'StateElectorate'],\n",
       "      dtype='object')"
      ]
     },
     "execution_count": 126,
     "metadata": {},
     "output_type": "execute_result"
    }
   ],
   "source": [
    "#Fixing column names and reordering as needed\n",
    "df4 = df4.rename(columns= {'PropertyType':'RentalUnitDesc', 'Program':'RUUseType',  'LocalGovtAuthority':'LGA'})\n",
    "df4=df4.reindex(columns=neworder)\n",
    "df4.columns"
   ]
  },
  {
   "cell_type": "code",
   "execution_count": 127,
   "metadata": {},
   "outputs": [
    {
     "data": {
      "text/plain": [
       "Postcode                 int64\n",
       "Bedrooms                 int64\n",
       "RentalUnitDesc          object\n",
       "VUDate                  object\n",
       "VTDate                  object\n",
       "TENDate                 object\n",
       "RUUseType               object\n",
       "HousingServiceCentre    object\n",
       "VUDays                   int64\n",
       "VTDays                   int64\n",
       "TotalVAC                 int64\n",
       "LGA                     object\n",
       "StateElectorate         object\n",
       "dtype: object"
      ]
     },
     "execution_count": 127,
     "metadata": {},
     "output_type": "execute_result"
    }
   ],
   "source": [
    "df4.dtypes"
   ]
  },
  {
   "cell_type": "code",
   "execution_count": 128,
   "metadata": {},
   "outputs": [
    {
     "data": {
      "text/plain": [
       "Index(['Postcode', 'Bedrooms', 'RentalUnitDesc', 'VUDate', 'VTDate', 'TENDate',\n",
       "       'RUUseType', 'HousingServiceCentre', 'VUDays', 'VTDays', 'TotalVAC',\n",
       "       'LGA', 'StateElectorate'],\n",
       "      dtype='object')"
      ]
     },
     "execution_count": 128,
     "metadata": {},
     "output_type": "execute_result"
    }
   ],
   "source": [
    "#Fixing column names and reordering as needed\n",
    "df5 = df5.rename(columns= {'PropertyType':'RentalUnitDesc', 'Program':'RUUseType', 'TotalVacDays':'TotalVac', 'LocalGovtAuthority':'LGA'})\n",
    "df5=df5.reindex(columns=neworder)\n",
    "df5.columns"
   ]
  },
  {
   "cell_type": "code",
   "execution_count": 129,
   "metadata": {},
   "outputs": [
    {
     "data": {
      "text/plain": [
       "Postcode                 int64\n",
       "Bedrooms                 int64\n",
       "RentalUnitDesc          object\n",
       "VUDate                  object\n",
       "VTDate                  object\n",
       "TENDate                 object\n",
       "RUUseType               object\n",
       "HousingServiceCentre    object\n",
       "VUDays                   int64\n",
       "VTDays                   int64\n",
       "TotalVAC                 int64\n",
       "LGA                     object\n",
       "StateElectorate         object\n",
       "dtype: object"
      ]
     },
     "execution_count": 129,
     "metadata": {},
     "output_type": "execute_result"
    }
   ],
   "source": [
    "df5.dtypes"
   ]
  },
  {
   "cell_type": "code",
   "execution_count": 130,
   "metadata": {},
   "outputs": [
    {
     "data": {
      "text/plain": [
       "(31757, 13)"
      ]
     },
     "execution_count": 130,
     "metadata": {},
     "output_type": "execute_result"
    }
   ],
   "source": [
    "#Concatenating all dataframes\n",
    "#df = pd.concat([df1, df2, df3, df4, df5])\n",
    "df = pd.concat([df1, df2, df3, df4])\n",
    "df= pd.concat([df, df5])\n",
    "#Dropping nan values\n",
    "df = df.dropna(subset=['TotalVAC'],inplace = False)\n",
    "#Dropping rows with 0 days vacant\n",
    "df = df[df.TotalVAC != 0]\n",
    "df.shape"
   ]
  },
  {
   "cell_type": "code",
   "execution_count": 131,
   "metadata": {},
   "outputs": [
    {
     "name": "stdout",
     "output_type": "stream",
     "text": [
      "31757\n",
      "31757\n"
     ]
    }
   ],
   "source": [
    "#Create two new columns for year and month\n",
    "Years = []\n",
    "Months = []\n",
    "#Convert date string to year and month\n",
    "date_splited = []\n",
    "dates = pd.Series(df['TENDate'])\n",
    "for date in dates:\n",
    "    if '/' in date:\n",
    "        date_splited = date.split('/')\n",
    "        Years.append(date_splited[2].strip())\n",
    "        Months.append(f'{date_splited[2]}-{date_splited[1]}')\n",
    "    elif '-' in date:\n",
    "        date_splited = date.split('-')\n",
    "        Years.append(f'20{date_splited[1].strip()}')\n",
    "        Months.append(date_splited[0].strip())\n",
    "    else:\n",
    "        Years.append(date)\n",
    "\n",
    "print(len(dates))\n",
    "print(len(Years))\n",
    "df['Year'] = Years\n",
    "df['Month'] = Months"
   ]
  },
  {
   "cell_type": "code",
   "execution_count": 132,
   "metadata": {},
   "outputs": [
    {
     "data": {
      "text/plain": [
       "array(['2017', '2018', '2019', '2020', '2021', '2022'], dtype=object)"
      ]
     },
     "execution_count": 132,
     "metadata": {},
     "output_type": "execute_result"
    }
   ],
   "source": [
    "df['Year'].unique()"
   ]
  },
  {
   "cell_type": "code",
   "execution_count": 133,
   "metadata": {},
   "outputs": [
    {
     "data": {
      "text/plain": [
       "array(['DETACHED HOUSE', 'APARTMENT', 'SENIOR UNIT', 'DUPLEX',\n",
       "       'ATTACHED HOUSING', 'CLUSTER HOUSING', 'DUAL OCCUPANCY',\n",
       "       'Townhouse', 'Detached House', 'Apartment', 'Cluster House',\n",
       "       'Duplex', 'Room', 'Dual Occupancy'], dtype=object)"
      ]
     },
     "execution_count": 133,
     "metadata": {},
     "output_type": "execute_result"
    }
   ],
   "source": [
    "#Check rental unit description's case\n",
    "df['RentalUnitDesc'].unique()"
   ]
  },
  {
   "cell_type": "code",
   "execution_count": 134,
   "metadata": {},
   "outputs": [
    {
     "data": {
      "text/plain": [
       "array(['Detached House', 'Senior Unit', 'Attached Housing', 'Apartment',\n",
       "       'Cluster Housing', 'Duplex', 'Dual Occupancy', 'Townhouse'],\n",
       "      dtype=object)"
      ]
     },
     "execution_count": 134,
     "metadata": {},
     "output_type": "execute_result"
    }
   ],
   "source": [
    "#Realign the case type of RentalUnitDesc\n",
    "#Convert Upper case to title case\n",
    "for index, row in df.iterrows():\n",
    "    rentalunit = row['RentalUnitDesc']\n",
    "    #print(rentalunit)\n",
    "    if rentalunit.isupper():\n",
    "        df.loc[index, 'RentalUnitDesc'] = rentalunit.title()\n",
    "\n",
    "df['RentalUnitDesc'].unique()\n",
    "    "
   ]
  },
  {
   "cell_type": "code",
   "execution_count": 135,
   "metadata": {},
   "outputs": [
    {
     "data": {
      "text/html": [
       "<div>\n",
       "<style scoped>\n",
       "    .dataframe tbody tr th:only-of-type {\n",
       "        vertical-align: middle;\n",
       "    }\n",
       "\n",
       "    .dataframe tbody tr th {\n",
       "        vertical-align: top;\n",
       "    }\n",
       "\n",
       "    .dataframe thead th {\n",
       "        text-align: right;\n",
       "    }\n",
       "</style>\n",
       "<table border=\"1\" class=\"dataframe\">\n",
       "  <thead>\n",
       "    <tr style=\"text-align: right;\">\n",
       "      <th></th>\n",
       "      <th>Postcode</th>\n",
       "      <th>Bedrooms</th>\n",
       "      <th>RentalUnitDesc</th>\n",
       "      <th>VUDate</th>\n",
       "      <th>VTDate</th>\n",
       "      <th>TENDate</th>\n",
       "      <th>RUUseType</th>\n",
       "      <th>HousingServiceCentre</th>\n",
       "      <th>VUDays</th>\n",
       "      <th>VTDays</th>\n",
       "      <th>TotalVAC</th>\n",
       "      <th>LGA</th>\n",
       "      <th>StateElectorate</th>\n",
       "      <th>Year</th>\n",
       "      <th>Month</th>\n",
       "    </tr>\n",
       "  </thead>\n",
       "  <tbody>\n",
       "    <tr>\n",
       "      <th>3766</th>\n",
       "      <td>4205</td>\n",
       "      <td>2</td>\n",
       "      <td>Detached House</td>\n",
       "      <td>21/06/2022</td>\n",
       "      <td>22/06/2022</td>\n",
       "      <td>22/06/2022</td>\n",
       "      <td>Public Housing</td>\n",
       "      <td>LOGAN HSC</td>\n",
       "      <td>1</td>\n",
       "      <td>0</td>\n",
       "      <td>1</td>\n",
       "      <td>Logan</td>\n",
       "      <td>Waterford</td>\n",
       "      <td>2022</td>\n",
       "      <td>2022-06</td>\n",
       "    </tr>\n",
       "    <tr>\n",
       "      <th>3767</th>\n",
       "      <td>4124</td>\n",
       "      <td>4</td>\n",
       "      <td>Detached House</td>\n",
       "      <td>22/06/2022</td>\n",
       "      <td>23/06/2022</td>\n",
       "      <td>23/06/2022</td>\n",
       "      <td>Public Housing</td>\n",
       "      <td>LOGAN HSC</td>\n",
       "      <td>1</td>\n",
       "      <td>0</td>\n",
       "      <td>1</td>\n",
       "      <td>Logan</td>\n",
       "      <td>Logan</td>\n",
       "      <td>2022</td>\n",
       "      <td>2022-06</td>\n",
       "    </tr>\n",
       "    <tr>\n",
       "      <th>3768</th>\n",
       "      <td>4207</td>\n",
       "      <td>3</td>\n",
       "      <td>Duplex</td>\n",
       "      <td>23/06/2022</td>\n",
       "      <td>24/06/2022</td>\n",
       "      <td>24/06/2022</td>\n",
       "      <td>Public Housing</td>\n",
       "      <td>LOGAN HSC</td>\n",
       "      <td>1</td>\n",
       "      <td>0</td>\n",
       "      <td>1</td>\n",
       "      <td>Logan</td>\n",
       "      <td>Macalister</td>\n",
       "      <td>2022</td>\n",
       "      <td>2022-06</td>\n",
       "    </tr>\n",
       "    <tr>\n",
       "      <th>3769</th>\n",
       "      <td>4655</td>\n",
       "      <td>3</td>\n",
       "      <td>Detached House</td>\n",
       "      <td>27/06/2022</td>\n",
       "      <td>28/06/2022</td>\n",
       "      <td>28/06/2022</td>\n",
       "      <td>Public Housing</td>\n",
       "      <td>MARYBOROUGH HSC</td>\n",
       "      <td>1</td>\n",
       "      <td>0</td>\n",
       "      <td>1</td>\n",
       "      <td>Fraser Coast</td>\n",
       "      <td>Hervey Bay</td>\n",
       "      <td>2022</td>\n",
       "      <td>2022-06</td>\n",
       "    </tr>\n",
       "    <tr>\n",
       "      <th>3770</th>\n",
       "      <td>4506</td>\n",
       "      <td>4</td>\n",
       "      <td>Senior Unit</td>\n",
       "      <td>27/06/2022</td>\n",
       "      <td>28/06/2022</td>\n",
       "      <td>28/06/2022</td>\n",
       "      <td>Public Housing</td>\n",
       "      <td>MORETON BAY HSC</td>\n",
       "      <td>1</td>\n",
       "      <td>0</td>\n",
       "      <td>1</td>\n",
       "      <td>Moreton Bay</td>\n",
       "      <td>Morayfield</td>\n",
       "      <td>2022</td>\n",
       "      <td>2022-06</td>\n",
       "    </tr>\n",
       "  </tbody>\n",
       "</table>\n",
       "</div>"
      ],
      "text/plain": [
       "      Postcode  Bedrooms  RentalUnitDesc      VUDate      VTDate     TENDate  \\\n",
       "3766      4205         2  Detached House  21/06/2022  22/06/2022  22/06/2022   \n",
       "3767      4124         4  Detached House  22/06/2022  23/06/2022  23/06/2022   \n",
       "3768      4207         3          Duplex  23/06/2022  24/06/2022  24/06/2022   \n",
       "3769      4655         3  Detached House  27/06/2022  28/06/2022  28/06/2022   \n",
       "3770      4506         4     Senior Unit  27/06/2022  28/06/2022  28/06/2022   \n",
       "\n",
       "           RUUseType HousingServiceCentre  VUDays  VTDays  TotalVAC  \\\n",
       "3766  Public Housing            LOGAN HSC       1       0         1   \n",
       "3767  Public Housing            LOGAN HSC       1       0         1   \n",
       "3768  Public Housing            LOGAN HSC       1       0         1   \n",
       "3769  Public Housing      MARYBOROUGH HSC       1       0         1   \n",
       "3770  Public Housing      MORETON BAY HSC       1       0         1   \n",
       "\n",
       "               LGA StateElectorate  Year    Month  \n",
       "3766         Logan       Waterford  2022  2022-06  \n",
       "3767         Logan           Logan  2022  2022-06  \n",
       "3768         Logan      Macalister  2022  2022-06  \n",
       "3769  Fraser Coast      Hervey Bay  2022  2022-06  \n",
       "3770   Moreton Bay      Morayfield  2022  2022-06  "
      ]
     },
     "execution_count": 135,
     "metadata": {},
     "output_type": "execute_result"
    }
   ],
   "source": [
    "#Write to CSV\n",
    "df.to_csv(\"Processed/all_vacancy_data.csv\")\n",
    "df.tail()"
   ]
  },
  {
   "cell_type": "markdown",
   "metadata": {},
   "source": []
  }
 ],
 "metadata": {
  "kernelspec": {
   "display_name": "Python 3.7.13 ('PythonData')",
   "language": "python",
   "name": "python3"
  },
  "language_info": {
   "codemirror_mode": {
    "name": "ipython",
    "version": 3
   },
   "file_extension": ".py",
   "mimetype": "text/x-python",
   "name": "python",
   "nbconvert_exporter": "python",
   "pygments_lexer": "ipython3",
   "version": "3.7.13"
  },
  "orig_nbformat": 4,
  "vscode": {
   "interpreter": {
    "hash": "9da66beca27f19bdf81de16e0121a30aa04d4edd5eb88e9a5610932102b72b6f"
   }
  }
 },
 "nbformat": 4,
 "nbformat_minor": 2
}
